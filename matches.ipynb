{
 "cells": [
  {
   "cell_type": "code",
   "execution_count": 9,
   "metadata": {},
   "outputs": [],
   "source": [
    "import requests \n",
    "from bs4 import BeautifulSoup\n",
    "import pandas as pd\n",
    "from tqdm import tqdm"
   ]
  },
  {
   "cell_type": "code",
   "execution_count": 2,
   "metadata": {},
   "outputs": [],
   "source": [
    "base_link = 'https://www.espncricinfo.com/'\n",
    "test_link = 'https://www.espncricinfo.com/records/list-of-match-results-by-year-307847'\n",
    "one_day_link = 'https://www.espncricinfo.com/records/list-of-match-results-by-year-307851'\n",
    "t20_links = 'https://www.espncricinfo.com/records/list-of-match-results-by-year-307852'"
   ]
  },
  {
   "cell_type": "code",
   "execution_count": 7,
   "metadata": {},
   "outputs": [],
   "source": [
    "def download_records(url, name):\n",
    "    response = requests.get(url=url)\n",
    "    print(\"Requst response code: \", response.status_code)\n",
    "    soup = BeautifulSoup(response.text, \"html.parser\")\n",
    "\n",
    "    years_links_tag = soup.find_all(\"div\",{\"class\":\"ds-mb-6\"})\n",
    "\n",
    "    years_links = []\n",
    "    for links in years_links_tag:\n",
    "        years_links.append(links.find_all(\"a\"))\n",
    "\n",
    "    matches_links = {}\n",
    "    for links in years_links:\n",
    "        for link in links:\n",
    "            matches_links[link.get_text()] = base_link + link[\"href\"]\n",
    "\n",
    "    df_list = []\n",
    "    for y in tqdm(matches_links):\n",
    "        df_list.append(pd.read_html(matches_links[f\"{y}\"])[0])\n",
    "\n",
    "    df = pd.concat(df_list)\n",
    "\n",
    "    df.to_csv(f\"./Data/{name}.csv\",index=False)"
   ]
  },
  {
   "cell_type": "code",
   "execution_count": 12,
   "metadata": {},
   "outputs": [
    {
     "name": "stdout",
     "output_type": "stream",
     "text": [
      "Requst response code:  200\n"
     ]
    },
    {
     "name": "stderr",
     "output_type": "stream",
     "text": [
      "100%|██████████| 133/133 [00:28<00:00,  4.61it/s]\n"
     ]
    }
   ],
   "source": [
    "download_records(test_link,\"test-matches\")"
   ]
  },
  {
   "cell_type": "code",
   "execution_count": 10,
   "metadata": {},
   "outputs": [
    {
     "name": "stdout",
     "output_type": "stream",
     "text": [
      "Requst response code:  200\n"
     ]
    },
    {
     "name": "stderr",
     "output_type": "stream",
     "text": [
      "100%|██████████| 53/53 [00:38<00:00,  1.38it/s]\n"
     ]
    }
   ],
   "source": [
    "download_records(one_day_link,\"one-day-matches\")"
   ]
  },
  {
   "cell_type": "code",
   "execution_count": 11,
   "metadata": {},
   "outputs": [
    {
     "name": "stdout",
     "output_type": "stream",
     "text": [
      "Requst response code:  200\n"
     ]
    },
    {
     "name": "stderr",
     "output_type": "stream",
     "text": [
      "100%|██████████| 19/19 [00:14<00:00,  1.28it/s]\n"
     ]
    }
   ],
   "source": [
    "download_records(t20_links,\"t20-matches\")"
   ]
  }
 ],
 "metadata": {
  "kernelspec": {
   "display_name": "Python 3",
   "language": "python",
   "name": "python3"
  },
  "language_info": {
   "codemirror_mode": {
    "name": "ipython",
    "version": 3
   },
   "file_extension": ".py",
   "mimetype": "text/x-python",
   "name": "python",
   "nbconvert_exporter": "python",
   "pygments_lexer": "ipython3",
   "version": "3.10.2"
  },
  "orig_nbformat": 4
 },
 "nbformat": 4,
 "nbformat_minor": 2
}
